{
 "cells": [
  {
   "cell_type": "code",
   "execution_count": 2,
   "id": "dee35ec2",
   "metadata": {},
   "outputs": [],
   "source": [
    "import os\n",
    "import pandas as pd\n",
    "import numpy as np\n",
    "\n",
    "np.random.seed(33)"
   ]
  },
  {
   "cell_type": "code",
   "execution_count": 5,
   "id": "31114979",
   "metadata": {},
   "outputs": [
    {
     "data": {
      "text/plain": [
       "{0: <DirEntry '41598_2022_7222_MOESM6_ESM.xlsx'>}"
      ]
     },
     "execution_count": 5,
     "metadata": {},
     "output_type": "execute_result"
    }
   ],
   "source": [
    "file_dict = dict(enumerate(os.scandir('Dataset')))\n",
    "file_dict"
   ]
  },
  {
   "cell_type": "code",
   "execution_count": 6,
   "id": "f0420764",
   "metadata": {},
   "outputs": [],
   "source": [
    "df = pd.read_excel(file_dict[0])"
   ]
  },
  {
   "cell_type": "code",
   "execution_count": 8,
   "id": "728ca3ed",
   "metadata": {},
   "outputs": [
    {
     "data": {
      "text/html": [
       "<div>\n",
       "<style scoped>\n",
       "    .dataframe tbody tr th:only-of-type {\n",
       "        vertical-align: middle;\n",
       "    }\n",
       "\n",
       "    .dataframe tbody tr th {\n",
       "        vertical-align: top;\n",
       "    }\n",
       "\n",
       "    .dataframe thead th {\n",
       "        text-align: right;\n",
       "    }\n",
       "</style>\n",
       "<table border=\"1\" class=\"dataframe\">\n",
       "  <thead>\n",
       "    <tr style=\"text-align: right;\">\n",
       "      <th></th>\n",
       "      <th>Unnamed: 0</th>\n",
       "      <th>123.7124</th>\n",
       "      <th>129.6213</th>\n",
       "      <th>135.5237</th>\n",
       "      <th>141.4197</th>\n",
       "      <th>147.3091</th>\n",
       "      <th>153.1921</th>\n",
       "      <th>159.0686</th>\n",
       "      <th>164.9387</th>\n",
       "      <th>170.8024</th>\n",
       "      <th>...</th>\n",
       "      <th>3954.1993</th>\n",
       "      <th>3956.5927</th>\n",
       "      <th>3958.9844</th>\n",
       "      <th>3961.3743</th>\n",
       "      <th>3963.7624</th>\n",
       "      <th>3966.1487</th>\n",
       "      <th>3968.5333</th>\n",
       "      <th>3970.9162</th>\n",
       "      <th>3973.2972</th>\n",
       "      <th>3975.6765</th>\n",
       "    </tr>\n",
       "  </thead>\n",
       "  <tbody>\n",
       "    <tr>\n",
       "      <th>0</th>\n",
       "      <td>Adulterated honey</td>\n",
       "      <td>0</td>\n",
       "      <td>0</td>\n",
       "      <td>0.0</td>\n",
       "      <td>140.370</td>\n",
       "      <td>969.73</td>\n",
       "      <td>2606.0</td>\n",
       "      <td>4880.8</td>\n",
       "      <td>7470.0</td>\n",
       "      <td>10216.0</td>\n",
       "      <td>...</td>\n",
       "      <td>112.720</td>\n",
       "      <td>65.250</td>\n",
       "      <td>73.281</td>\n",
       "      <td>1.3125</td>\n",
       "      <td>42.344</td>\n",
       "      <td>82.375</td>\n",
       "      <td>36.875</td>\n",
       "      <td>40.688</td>\n",
       "      <td>0.0</td>\n",
       "      <td>0</td>\n",
       "    </tr>\n",
       "    <tr>\n",
       "      <th>1</th>\n",
       "      <td>Adulterated honey</td>\n",
       "      <td>0</td>\n",
       "      <td>0</td>\n",
       "      <td>0.0</td>\n",
       "      <td>38.621</td>\n",
       "      <td>570.24</td>\n",
       "      <td>1660.9</td>\n",
       "      <td>3268.0</td>\n",
       "      <td>5090.0</td>\n",
       "      <td>6982.0</td>\n",
       "      <td>...</td>\n",
       "      <td>108.130</td>\n",
       "      <td>62.750</td>\n",
       "      <td>78.750</td>\n",
       "      <td>0.0000</td>\n",
       "      <td>33.219</td>\n",
       "      <td>69.438</td>\n",
       "      <td>41.563</td>\n",
       "      <td>42.281</td>\n",
       "      <td>0.0</td>\n",
       "      <td>0</td>\n",
       "    </tr>\n",
       "    <tr>\n",
       "      <th>2</th>\n",
       "      <td>Adulterated honey</td>\n",
       "      <td>0</td>\n",
       "      <td>0</td>\n",
       "      <td>0.0</td>\n",
       "      <td>108.230</td>\n",
       "      <td>718.96</td>\n",
       "      <td>1930.2</td>\n",
       "      <td>3746.1</td>\n",
       "      <td>5801.8</td>\n",
       "      <td>7902.5</td>\n",
       "      <td>...</td>\n",
       "      <td>114.060</td>\n",
       "      <td>66.641</td>\n",
       "      <td>74.906</td>\n",
       "      <td>0.0000</td>\n",
       "      <td>32.625</td>\n",
       "      <td>78.281</td>\n",
       "      <td>46.688</td>\n",
       "      <td>48.094</td>\n",
       "      <td>0.0</td>\n",
       "      <td>0</td>\n",
       "    </tr>\n",
       "    <tr>\n",
       "      <th>3</th>\n",
       "      <td>Adulterated honey</td>\n",
       "      <td>0</td>\n",
       "      <td>0</td>\n",
       "      <td>0.0</td>\n",
       "      <td>519.060</td>\n",
       "      <td>1459.10</td>\n",
       "      <td>2952.6</td>\n",
       "      <td>4898.0</td>\n",
       "      <td>7015.8</td>\n",
       "      <td>9187.7</td>\n",
       "      <td>...</td>\n",
       "      <td>103.940</td>\n",
       "      <td>68.859</td>\n",
       "      <td>79.875</td>\n",
       "      <td>0.0000</td>\n",
       "      <td>39.563</td>\n",
       "      <td>73.594</td>\n",
       "      <td>39.063</td>\n",
       "      <td>54.031</td>\n",
       "      <td>0.0</td>\n",
       "      <td>0</td>\n",
       "    </tr>\n",
       "    <tr>\n",
       "      <th>4</th>\n",
       "      <td>Adulterated honey</td>\n",
       "      <td>0</td>\n",
       "      <td>0</td>\n",
       "      <td>0.0</td>\n",
       "      <td>330.430</td>\n",
       "      <td>1225.70</td>\n",
       "      <td>2843.3</td>\n",
       "      <td>4805.9</td>\n",
       "      <td>7069.6</td>\n",
       "      <td>9434.8</td>\n",
       "      <td>...</td>\n",
       "      <td>96.875</td>\n",
       "      <td>61.688</td>\n",
       "      <td>75.531</td>\n",
       "      <td>0.0000</td>\n",
       "      <td>36.094</td>\n",
       "      <td>80.188</td>\n",
       "      <td>40.313</td>\n",
       "      <td>53.656</td>\n",
       "      <td>0.0</td>\n",
       "      <td>0</td>\n",
       "    </tr>\n",
       "  </tbody>\n",
       "</table>\n",
       "<p>5 rows × 1025 columns</p>\n",
       "</div>"
      ],
      "text/plain": [
       "          Unnamed: 0  123.7124  129.6213  135.5237  141.4197  147.3091  \\\n",
       "0  Adulterated honey         0         0       0.0   140.370    969.73   \n",
       "1  Adulterated honey         0         0       0.0    38.621    570.24   \n",
       "2  Adulterated honey         0         0       0.0   108.230    718.96   \n",
       "3  Adulterated honey         0         0       0.0   519.060   1459.10   \n",
       "4  Adulterated honey         0         0       0.0   330.430   1225.70   \n",
       "\n",
       "   153.1921  159.0686  164.9387  170.8024  ...  3954.1993  3956.5927  \\\n",
       "0    2606.0    4880.8    7470.0   10216.0  ...    112.720     65.250   \n",
       "1    1660.9    3268.0    5090.0    6982.0  ...    108.130     62.750   \n",
       "2    1930.2    3746.1    5801.8    7902.5  ...    114.060     66.641   \n",
       "3    2952.6    4898.0    7015.8    9187.7  ...    103.940     68.859   \n",
       "4    2843.3    4805.9    7069.6    9434.8  ...     96.875     61.688   \n",
       "\n",
       "   3958.9844  3961.3743  3963.7624  3966.1487  3968.5333  3970.9162  \\\n",
       "0     73.281     1.3125     42.344     82.375     36.875     40.688   \n",
       "1     78.750     0.0000     33.219     69.438     41.563     42.281   \n",
       "2     74.906     0.0000     32.625     78.281     46.688     48.094   \n",
       "3     79.875     0.0000     39.563     73.594     39.063     54.031   \n",
       "4     75.531     0.0000     36.094     80.188     40.313     53.656   \n",
       "\n",
       "   3973.2972  3975.6765  \n",
       "0        0.0          0  \n",
       "1        0.0          0  \n",
       "2        0.0          0  \n",
       "3        0.0          0  \n",
       "4        0.0          0  \n",
       "\n",
       "[5 rows x 1025 columns]"
      ]
     },
     "execution_count": 8,
     "metadata": {},
     "output_type": "execute_result"
    }
   ],
   "source": [
    "df.head()"
   ]
  },
  {
   "cell_type": "code",
   "execution_count": 9,
   "id": "2cb3e2aa",
   "metadata": {},
   "outputs": [
    {
     "data": {
      "text/html": [
       "<div>\n",
       "<style scoped>\n",
       "    .dataframe tbody tr th:only-of-type {\n",
       "        vertical-align: middle;\n",
       "    }\n",
       "\n",
       "    .dataframe tbody tr th {\n",
       "        vertical-align: top;\n",
       "    }\n",
       "\n",
       "    .dataframe thead th {\n",
       "        text-align: right;\n",
       "    }\n",
       "</style>\n",
       "<table border=\"1\" class=\"dataframe\">\n",
       "  <thead>\n",
       "    <tr style=\"text-align: right;\">\n",
       "      <th></th>\n",
       "      <th>target</th>\n",
       "      <th>123.7124</th>\n",
       "      <th>129.6213</th>\n",
       "      <th>135.5237</th>\n",
       "      <th>141.4197</th>\n",
       "      <th>147.3091</th>\n",
       "      <th>153.1921</th>\n",
       "      <th>159.0686</th>\n",
       "      <th>164.9387</th>\n",
       "      <th>170.8024</th>\n",
       "      <th>...</th>\n",
       "      <th>3954.1993</th>\n",
       "      <th>3956.5927</th>\n",
       "      <th>3958.9844</th>\n",
       "      <th>3961.3743</th>\n",
       "      <th>3963.7624</th>\n",
       "      <th>3966.1487</th>\n",
       "      <th>3968.5333</th>\n",
       "      <th>3970.9162</th>\n",
       "      <th>3973.2972</th>\n",
       "      <th>3975.6765</th>\n",
       "    </tr>\n",
       "  </thead>\n",
       "  <tbody>\n",
       "    <tr>\n",
       "      <th>0</th>\n",
       "      <td>Adulterated honey</td>\n",
       "      <td>0</td>\n",
       "      <td>0</td>\n",
       "      <td>0.0</td>\n",
       "      <td>140.370</td>\n",
       "      <td>969.73</td>\n",
       "      <td>2606.0</td>\n",
       "      <td>4880.8</td>\n",
       "      <td>7470.0</td>\n",
       "      <td>10216.0</td>\n",
       "      <td>...</td>\n",
       "      <td>112.720</td>\n",
       "      <td>65.250</td>\n",
       "      <td>73.281</td>\n",
       "      <td>1.3125</td>\n",
       "      <td>42.344</td>\n",
       "      <td>82.375</td>\n",
       "      <td>36.875</td>\n",
       "      <td>40.688</td>\n",
       "      <td>0.0</td>\n",
       "      <td>0</td>\n",
       "    </tr>\n",
       "    <tr>\n",
       "      <th>1</th>\n",
       "      <td>Adulterated honey</td>\n",
       "      <td>0</td>\n",
       "      <td>0</td>\n",
       "      <td>0.0</td>\n",
       "      <td>38.621</td>\n",
       "      <td>570.24</td>\n",
       "      <td>1660.9</td>\n",
       "      <td>3268.0</td>\n",
       "      <td>5090.0</td>\n",
       "      <td>6982.0</td>\n",
       "      <td>...</td>\n",
       "      <td>108.130</td>\n",
       "      <td>62.750</td>\n",
       "      <td>78.750</td>\n",
       "      <td>0.0000</td>\n",
       "      <td>33.219</td>\n",
       "      <td>69.438</td>\n",
       "      <td>41.563</td>\n",
       "      <td>42.281</td>\n",
       "      <td>0.0</td>\n",
       "      <td>0</td>\n",
       "    </tr>\n",
       "    <tr>\n",
       "      <th>2</th>\n",
       "      <td>Adulterated honey</td>\n",
       "      <td>0</td>\n",
       "      <td>0</td>\n",
       "      <td>0.0</td>\n",
       "      <td>108.230</td>\n",
       "      <td>718.96</td>\n",
       "      <td>1930.2</td>\n",
       "      <td>3746.1</td>\n",
       "      <td>5801.8</td>\n",
       "      <td>7902.5</td>\n",
       "      <td>...</td>\n",
       "      <td>114.060</td>\n",
       "      <td>66.641</td>\n",
       "      <td>74.906</td>\n",
       "      <td>0.0000</td>\n",
       "      <td>32.625</td>\n",
       "      <td>78.281</td>\n",
       "      <td>46.688</td>\n",
       "      <td>48.094</td>\n",
       "      <td>0.0</td>\n",
       "      <td>0</td>\n",
       "    </tr>\n",
       "    <tr>\n",
       "      <th>3</th>\n",
       "      <td>Adulterated honey</td>\n",
       "      <td>0</td>\n",
       "      <td>0</td>\n",
       "      <td>0.0</td>\n",
       "      <td>519.060</td>\n",
       "      <td>1459.10</td>\n",
       "      <td>2952.6</td>\n",
       "      <td>4898.0</td>\n",
       "      <td>7015.8</td>\n",
       "      <td>9187.7</td>\n",
       "      <td>...</td>\n",
       "      <td>103.940</td>\n",
       "      <td>68.859</td>\n",
       "      <td>79.875</td>\n",
       "      <td>0.0000</td>\n",
       "      <td>39.563</td>\n",
       "      <td>73.594</td>\n",
       "      <td>39.063</td>\n",
       "      <td>54.031</td>\n",
       "      <td>0.0</td>\n",
       "      <td>0</td>\n",
       "    </tr>\n",
       "    <tr>\n",
       "      <th>4</th>\n",
       "      <td>Adulterated honey</td>\n",
       "      <td>0</td>\n",
       "      <td>0</td>\n",
       "      <td>0.0</td>\n",
       "      <td>330.430</td>\n",
       "      <td>1225.70</td>\n",
       "      <td>2843.3</td>\n",
       "      <td>4805.9</td>\n",
       "      <td>7069.6</td>\n",
       "      <td>9434.8</td>\n",
       "      <td>...</td>\n",
       "      <td>96.875</td>\n",
       "      <td>61.688</td>\n",
       "      <td>75.531</td>\n",
       "      <td>0.0000</td>\n",
       "      <td>36.094</td>\n",
       "      <td>80.188</td>\n",
       "      <td>40.313</td>\n",
       "      <td>53.656</td>\n",
       "      <td>0.0</td>\n",
       "      <td>0</td>\n",
       "    </tr>\n",
       "  </tbody>\n",
       "</table>\n",
       "<p>5 rows × 1025 columns</p>\n",
       "</div>"
      ],
      "text/plain": [
       "              target  123.7124  129.6213  135.5237  141.4197  147.3091  \\\n",
       "0  Adulterated honey         0         0       0.0   140.370    969.73   \n",
       "1  Adulterated honey         0         0       0.0    38.621    570.24   \n",
       "2  Adulterated honey         0         0       0.0   108.230    718.96   \n",
       "3  Adulterated honey         0         0       0.0   519.060   1459.10   \n",
       "4  Adulterated honey         0         0       0.0   330.430   1225.70   \n",
       "\n",
       "   153.1921  159.0686  164.9387  170.8024  ...  3954.1993  3956.5927  \\\n",
       "0    2606.0    4880.8    7470.0   10216.0  ...    112.720     65.250   \n",
       "1    1660.9    3268.0    5090.0    6982.0  ...    108.130     62.750   \n",
       "2    1930.2    3746.1    5801.8    7902.5  ...    114.060     66.641   \n",
       "3    2952.6    4898.0    7015.8    9187.7  ...    103.940     68.859   \n",
       "4    2843.3    4805.9    7069.6    9434.8  ...     96.875     61.688   \n",
       "\n",
       "   3958.9844  3961.3743  3963.7624  3966.1487  3968.5333  3970.9162  \\\n",
       "0     73.281     1.3125     42.344     82.375     36.875     40.688   \n",
       "1     78.750     0.0000     33.219     69.438     41.563     42.281   \n",
       "2     74.906     0.0000     32.625     78.281     46.688     48.094   \n",
       "3     79.875     0.0000     39.563     73.594     39.063     54.031   \n",
       "4     75.531     0.0000     36.094     80.188     40.313     53.656   \n",
       "\n",
       "   3973.2972  3975.6765  \n",
       "0        0.0          0  \n",
       "1        0.0          0  \n",
       "2        0.0          0  \n",
       "3        0.0          0  \n",
       "4        0.0          0  \n",
       "\n",
       "[5 rows x 1025 columns]"
      ]
     },
     "execution_count": 9,
     "metadata": {},
     "output_type": "execute_result"
    }
   ],
   "source": [
    "df.rename(columns = {'Unnamed: 0' : 'target'}, inplace = True)\n",
    "df.head()"
   ]
  },
  {
   "cell_type": "code",
   "execution_count": 37,
   "id": "6cfbdb87",
   "metadata": {},
   "outputs": [
    {
     "data": {
      "text/plain": [
       "(200, 1025)"
      ]
     },
     "execution_count": 37,
     "metadata": {},
     "output_type": "execute_result"
    }
   ],
   "source": [
    "df.shape"
   ]
  },
  {
   "cell_type": "code",
   "execution_count": 29,
   "id": "4cf30e09",
   "metadata": {},
   "outputs": [
    {
     "data": {
      "text/plain": [
       "array(['Adulterated honey', 'Pure honey'], dtype=object)"
      ]
     },
     "execution_count": 29,
     "metadata": {},
     "output_type": "execute_result"
    }
   ],
   "source": [
    "df['target'].unique()"
   ]
  },
  {
   "cell_type": "code",
   "execution_count": 41,
   "id": "25f76af4",
   "metadata": {},
   "outputs": [
    {
     "data": {
      "text/html": [
       "<div>\n",
       "<style scoped>\n",
       "    .dataframe tbody tr th:only-of-type {\n",
       "        vertical-align: middle;\n",
       "    }\n",
       "\n",
       "    .dataframe tbody tr th {\n",
       "        vertical-align: top;\n",
       "    }\n",
       "\n",
       "    .dataframe thead th {\n",
       "        text-align: right;\n",
       "    }\n",
       "</style>\n",
       "<table border=\"1\" class=\"dataframe\">\n",
       "  <thead>\n",
       "    <tr style=\"text-align: right;\">\n",
       "      <th>target</th>\n",
       "      <th>Adulterated honey</th>\n",
       "      <th>Pure honey</th>\n",
       "    </tr>\n",
       "  </thead>\n",
       "  <tbody>\n",
       "    <tr>\n",
       "      <th>123.7124</th>\n",
       "      <td>0.000000</td>\n",
       "      <td>0.000000</td>\n",
       "    </tr>\n",
       "    <tr>\n",
       "      <th>129.6213</th>\n",
       "      <td>0.000000</td>\n",
       "      <td>0.000000</td>\n",
       "    </tr>\n",
       "    <tr>\n",
       "      <th>135.5237</th>\n",
       "      <td>23.608018</td>\n",
       "      <td>35.808744</td>\n",
       "    </tr>\n",
       "    <tr>\n",
       "      <th>141.4197</th>\n",
       "      <td>280.301566</td>\n",
       "      <td>347.256095</td>\n",
       "    </tr>\n",
       "    <tr>\n",
       "      <th>147.3091</th>\n",
       "      <td>898.448687</td>\n",
       "      <td>1084.119149</td>\n",
       "    </tr>\n",
       "    <tr>\n",
       "      <th>...</th>\n",
       "      <td>...</td>\n",
       "      <td>...</td>\n",
       "    </tr>\n",
       "    <tr>\n",
       "      <th>3966.1487</th>\n",
       "      <td>94.421949</td>\n",
       "      <td>88.440178</td>\n",
       "    </tr>\n",
       "    <tr>\n",
       "      <th>3968.5333</th>\n",
       "      <td>48.523869</td>\n",
       "      <td>59.094455</td>\n",
       "    </tr>\n",
       "    <tr>\n",
       "      <th>3970.9162</th>\n",
       "      <td>57.233949</td>\n",
       "      <td>68.434475</td>\n",
       "    </tr>\n",
       "    <tr>\n",
       "      <th>3973.2972</th>\n",
       "      <td>0.169505</td>\n",
       "      <td>0.000000</td>\n",
       "    </tr>\n",
       "    <tr>\n",
       "      <th>3975.6765</th>\n",
       "      <td>0.000000</td>\n",
       "      <td>0.000000</td>\n",
       "    </tr>\n",
       "  </tbody>\n",
       "</table>\n",
       "<p>1024 rows × 2 columns</p>\n",
       "</div>"
      ],
      "text/plain": [
       "target     Adulterated honey   Pure honey\n",
       "123.7124            0.000000     0.000000\n",
       "129.6213            0.000000     0.000000\n",
       "135.5237           23.608018    35.808744\n",
       "141.4197          280.301566   347.256095\n",
       "147.3091          898.448687  1084.119149\n",
       "...                      ...          ...\n",
       "3966.1487          94.421949    88.440178\n",
       "3968.5333          48.523869    59.094455\n",
       "3970.9162          57.233949    68.434475\n",
       "3973.2972           0.169505     0.000000\n",
       "3975.6765           0.000000     0.000000\n",
       "\n",
       "[1024 rows x 2 columns]"
      ]
     },
     "execution_count": 41,
     "metadata": {},
     "output_type": "execute_result"
    }
   ],
   "source": [
    "# aggreagting the df by the target column then taking mean of each group and then Transposing it\n",
    "mean_df = df.groupby('target').mean().T \n",
    "mean_df"
   ]
  },
  {
   "cell_type": "code",
   "execution_count": 42,
   "id": "5a7102dc",
   "metadata": {},
   "outputs": [],
   "source": [
    "X = df.select_dtypes('number')\n",
    "Y = df.target"
   ]
  },
  {
   "cell_type": "code",
   "execution_count": 40,
   "id": "fb38fb17",
   "metadata": {},
   "outputs": [],
   "source": [
    "from sklearn.model_selection import train_test_split\n",
    "from sklearn.preprocessing import StandardScaler"
   ]
  },
  {
   "cell_type": "code",
   "execution_count": 66,
   "id": "56c31caa",
   "metadata": {},
   "outputs": [],
   "source": [
    "train_x, test_x, train_y, test_y = train_test_split(X,Y, test_size = .2, shuffle=True)"
   ]
  },
  {
   "cell_type": "code",
   "execution_count": 67,
   "id": "18c04042",
   "metadata": {},
   "outputs": [],
   "source": [
    "scaler= StandardScaler()    \n",
    "train_x= scaler.fit_transform(train_x)\n",
    "test_x= scaler.transform(test_x) "
   ]
  },
  {
   "cell_type": "code",
   "execution_count": 68,
   "id": "87d24e9c",
   "metadata": {},
   "outputs": [],
   "source": [
    "from sklearn.svm import SVC"
   ]
  },
  {
   "cell_type": "code",
   "execution_count": 69,
   "id": "e66935ce",
   "metadata": {},
   "outputs": [],
   "source": [
    "classifier = SVC(kernel='linear', random_state = 0)"
   ]
  },
  {
   "cell_type": "code",
   "execution_count": 70,
   "id": "845c1c2a",
   "metadata": {},
   "outputs": [
    {
     "data": {
      "text/html": [
       "<style>#sk-container-id-2 {color: black;}#sk-container-id-2 pre{padding: 0;}#sk-container-id-2 div.sk-toggleable {background-color: white;}#sk-container-id-2 label.sk-toggleable__label {cursor: pointer;display: block;width: 100%;margin-bottom: 0;padding: 0.3em;box-sizing: border-box;text-align: center;}#sk-container-id-2 label.sk-toggleable__label-arrow:before {content: \"▸\";float: left;margin-right: 0.25em;color: #696969;}#sk-container-id-2 label.sk-toggleable__label-arrow:hover:before {color: black;}#sk-container-id-2 div.sk-estimator:hover label.sk-toggleable__label-arrow:before {color: black;}#sk-container-id-2 div.sk-toggleable__content {max-height: 0;max-width: 0;overflow: hidden;text-align: left;background-color: #f0f8ff;}#sk-container-id-2 div.sk-toggleable__content pre {margin: 0.2em;color: black;border-radius: 0.25em;background-color: #f0f8ff;}#sk-container-id-2 input.sk-toggleable__control:checked~div.sk-toggleable__content {max-height: 200px;max-width: 100%;overflow: auto;}#sk-container-id-2 input.sk-toggleable__control:checked~label.sk-toggleable__label-arrow:before {content: \"▾\";}#sk-container-id-2 div.sk-estimator input.sk-toggleable__control:checked~label.sk-toggleable__label {background-color: #d4ebff;}#sk-container-id-2 div.sk-label input.sk-toggleable__control:checked~label.sk-toggleable__label {background-color: #d4ebff;}#sk-container-id-2 input.sk-hidden--visually {border: 0;clip: rect(1px 1px 1px 1px);clip: rect(1px, 1px, 1px, 1px);height: 1px;margin: -1px;overflow: hidden;padding: 0;position: absolute;width: 1px;}#sk-container-id-2 div.sk-estimator {font-family: monospace;background-color: #f0f8ff;border: 1px dotted black;border-radius: 0.25em;box-sizing: border-box;margin-bottom: 0.5em;}#sk-container-id-2 div.sk-estimator:hover {background-color: #d4ebff;}#sk-container-id-2 div.sk-parallel-item::after {content: \"\";width: 100%;border-bottom: 1px solid gray;flex-grow: 1;}#sk-container-id-2 div.sk-label:hover label.sk-toggleable__label {background-color: #d4ebff;}#sk-container-id-2 div.sk-serial::before {content: \"\";position: absolute;border-left: 1px solid gray;box-sizing: border-box;top: 0;bottom: 0;left: 50%;z-index: 0;}#sk-container-id-2 div.sk-serial {display: flex;flex-direction: column;align-items: center;background-color: white;padding-right: 0.2em;padding-left: 0.2em;position: relative;}#sk-container-id-2 div.sk-item {position: relative;z-index: 1;}#sk-container-id-2 div.sk-parallel {display: flex;align-items: stretch;justify-content: center;background-color: white;position: relative;}#sk-container-id-2 div.sk-item::before, #sk-container-id-2 div.sk-parallel-item::before {content: \"\";position: absolute;border-left: 1px solid gray;box-sizing: border-box;top: 0;bottom: 0;left: 50%;z-index: -1;}#sk-container-id-2 div.sk-parallel-item {display: flex;flex-direction: column;z-index: 1;position: relative;background-color: white;}#sk-container-id-2 div.sk-parallel-item:first-child::after {align-self: flex-end;width: 50%;}#sk-container-id-2 div.sk-parallel-item:last-child::after {align-self: flex-start;width: 50%;}#sk-container-id-2 div.sk-parallel-item:only-child::after {width: 0;}#sk-container-id-2 div.sk-dashed-wrapped {border: 1px dashed gray;margin: 0 0.4em 0.5em 0.4em;box-sizing: border-box;padding-bottom: 0.4em;background-color: white;}#sk-container-id-2 div.sk-label label {font-family: monospace;font-weight: bold;display: inline-block;line-height: 1.2em;}#sk-container-id-2 div.sk-label-container {text-align: center;}#sk-container-id-2 div.sk-container {/* jupyter's `normalize.less` sets `[hidden] { display: none; }` but bootstrap.min.css set `[hidden] { display: none !important; }` so we also need the `!important` here to be able to override the default hidden behavior on the sphinx rendered scikit-learn.org. See: https://github.com/scikit-learn/scikit-learn/issues/21755 */display: inline-block !important;position: relative;}#sk-container-id-2 div.sk-text-repr-fallback {display: none;}</style><div id=\"sk-container-id-2\" class=\"sk-top-container\"><div class=\"sk-text-repr-fallback\"><pre>SVC(kernel=&#x27;linear&#x27;, random_state=0)</pre><b>In a Jupyter environment, please rerun this cell to show the HTML representation or trust the notebook. <br />On GitHub, the HTML representation is unable to render, please try loading this page with nbviewer.org.</b></div><div class=\"sk-container\" hidden><div class=\"sk-item\"><div class=\"sk-estimator sk-toggleable\"><input class=\"sk-toggleable__control sk-hidden--visually\" id=\"sk-estimator-id-2\" type=\"checkbox\" checked><label for=\"sk-estimator-id-2\" class=\"sk-toggleable__label sk-toggleable__label-arrow\">SVC</label><div class=\"sk-toggleable__content\"><pre>SVC(kernel=&#x27;linear&#x27;, random_state=0)</pre></div></div></div></div></div>"
      ],
      "text/plain": [
       "SVC(kernel='linear', random_state=0)"
      ]
     },
     "execution_count": 70,
     "metadata": {},
     "output_type": "execute_result"
    }
   ],
   "source": [
    "classifier.fit(train_x, train_y)"
   ]
  },
  {
   "cell_type": "code",
   "execution_count": 71,
   "id": "7e56a169",
   "metadata": {},
   "outputs": [],
   "source": [
    "pred_y= classifier.predict(test_x)  "
   ]
  },
  {
   "cell_type": "code",
   "execution_count": 72,
   "id": "01c07acf",
   "metadata": {},
   "outputs": [
    {
     "data": {
      "text/plain": [
       "array(['Pure honey', 'Adulterated honey', 'Adulterated honey',\n",
       "       'Pure honey', 'Adulterated honey', 'Adulterated honey',\n",
       "       'Adulterated honey', 'Adulterated honey', 'Pure honey',\n",
       "       'Adulterated honey', 'Adulterated honey', 'Adulterated honey',\n",
       "       'Adulterated honey', 'Adulterated honey', 'Pure honey',\n",
       "       'Pure honey', 'Adulterated honey', 'Adulterated honey',\n",
       "       'Pure honey', 'Adulterated honey', 'Pure honey',\n",
       "       'Adulterated honey', 'Adulterated honey', 'Pure honey',\n",
       "       'Adulterated honey', 'Adulterated honey', 'Adulterated honey',\n",
       "       'Adulterated honey', 'Pure honey', 'Pure honey',\n",
       "       'Adulterated honey', 'Pure honey', 'Pure honey', 'Pure honey',\n",
       "       'Pure honey', 'Adulterated honey', 'Pure honey', 'Pure honey',\n",
       "       'Pure honey', 'Adulterated honey'], dtype=object)"
      ]
     },
     "execution_count": 72,
     "metadata": {},
     "output_type": "execute_result"
    }
   ],
   "source": [
    "pred_y"
   ]
  },
  {
   "cell_type": "code",
   "execution_count": 73,
   "id": "b613a134",
   "metadata": {},
   "outputs": [
    {
     "data": {
      "text/plain": [
       "0.975"
      ]
     },
     "execution_count": 73,
     "metadata": {},
     "output_type": "execute_result"
    }
   ],
   "source": [
    "classifier.score(test_x, test_y)"
   ]
  },
  {
   "cell_type": "code",
   "execution_count": 74,
   "id": "3f4dda01",
   "metadata": {},
   "outputs": [],
   "source": [
    "from sklearn.metrics import confusion_matrix"
   ]
  },
  {
   "cell_type": "code",
   "execution_count": 75,
   "id": "b8571f6d",
   "metadata": {},
   "outputs": [],
   "source": [
    "con = confusion_matrix(test_y, pred_y)"
   ]
  },
  {
   "cell_type": "code",
   "execution_count": 76,
   "id": "76f1ce99",
   "metadata": {},
   "outputs": [
    {
     "data": {
      "text/plain": [
       "array([[22,  0],\n",
       "       [ 1, 17]])"
      ]
     },
     "execution_count": 76,
     "metadata": {},
     "output_type": "execute_result"
    }
   ],
   "source": [
    "con"
   ]
  },
  {
   "cell_type": "code",
   "execution_count": null,
   "id": "9eb300d1",
   "metadata": {},
   "outputs": [],
   "source": []
  }
 ],
 "metadata": {
  "kernelspec": {
   "display_name": "Python 3 (ipykernel)",
   "language": "python",
   "name": "python3"
  },
  "language_info": {
   "codemirror_mode": {
    "name": "ipython",
    "version": 3
   },
   "file_extension": ".py",
   "mimetype": "text/x-python",
   "name": "python",
   "nbconvert_exporter": "python",
   "pygments_lexer": "ipython3",
   "version": "3.10.6"
  }
 },
 "nbformat": 4,
 "nbformat_minor": 5
}
